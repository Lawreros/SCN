{
 "cells": [
  {
   "cell_type": "markdown",
   "metadata": {},
   "source": [
    "## Pytorch MRI image class\n",
    "\n",
    "The purpose of this notebook is to work out a class that I an consistently use for the super-resolution and just general image training of MRI and potentially other medical imaging data types.\n",
    "\n",
    "It's become clear that everyone seems to have a different, unique, way of loading and organizing their data into a format that can be fed into a Pytorch `Dataset` for training a model. This can include creating intermediate `.png` images in order to limit memory usage/training time on personal hardware.\n",
    "\n",
    "Goals for this tool:\n",
    "1. Given an input folder, list all files that match a particular `prefix` and `suffix`\n",
    "2. Display sample images from the list for assurance\n",
    "3. Create randomly shuffled/altered images at different resolutions (gaussian blur, affine transformation, etc.)\n",
    "    - Make the aspect of saving these images optional\n",
    "4. Save any image generated in a specified format\n",
    "5. Be given an input and output folder and generate list of matching data\n",
    "6. Have locations of matching low and high resolution images (potentially a list for every x2 magnification)\n",
    "\n",
    "\n",
    "Output file labeling protocol:\n",
    "To keep things consistent I should probably create a labeling structure that is robust to future changes that I might want to make. This will most likely have to be stored in the string name, unless I want to make an intermediate file that is used as a key for the location of the files relative to the directory."
   ]
  },
  {
   "cell_type": "markdown",
   "metadata": {},
   "source": [
    "## Import necessary libraries"
   ]
  },
  {
   "cell_type": "code",
   "execution_count": 18,
   "metadata": {},
   "outputs": [],
   "source": [
    "import torch\n",
    "import torch.nn as nn\n",
    "import torch.nn.functional as F\n",
    "import torch.optim as optim\n",
    "import os\n",
    "import numpy as np\n",
    "from PIL import Image\n",
    "import random\n",
    "import cv2\n",
    "from matplotlib import pyplot\n",
    "from skimage.transform import rotate, AffineTransform, warp, rescale"
   ]
  },
  {
   "cell_type": "markdown",
   "metadata": {},
   "source": [
    "## Class definition"
   ]
  },
  {
   "cell_type": "code",
   "execution_count": 33,
   "metadata": {},
   "outputs": [],
   "source": [
    "# The super resolution class:\n",
    "\n",
    "class sr_gen():\n",
    "    def __init__(self, inp_dir, HR_out_dir, LR_out_dir, prefix='', suffix=''):\n",
    "        self.inp_dir = inp_dir\n",
    "        self.HR_out_dir = HR_out_dir\n",
    "        self.LR_out_dir = LR_out_dir\n",
    "        self.inp_files = self.__get_inp__(prefix, suffix)\n",
    "        self.template = self.get_template()\n",
    "\n",
    "    def __get_inp__(self, prefix, suffix):\n",
    "        # Get the original files that will be used to generate everything\n",
    "        # Based on the prefix, for now this could be nifti files or png's.\n",
    "        # Will have to write a \"try\" statement in order to check for file type\n",
    "        files = []\n",
    "        for fil in os.listdir(self.inp_dir):\n",
    "            if fil.startswith(prefix) & fil.endswith(suffix):\n",
    "                files.append(fil)\n",
    "        \n",
    "        if not files:\n",
    "            raise FileNotFoundError('No applicable files found in input directory')\n",
    "\n",
    "        return files\n",
    "\n",
    "    def __get_LR_out__(self):\n",
    "        # get list of files in output directory and determine matching files\n",
    "        return os.listdir(self.LR_out_dir)\n",
    "\n",
    "    def __get_HR_out__(self):\n",
    "        return os.listdir(self.HR_out_dir)\n",
    "\n",
    "\n",
    "    def __view_sample__(self):\n",
    "        # Function which loads and displays random example image for sanity check\n",
    "        pyplot.imshow(Image.open(self.inp_dir + self.inp_files[random.randint(0,len(self.inp_files)-1)]))\n",
    "\n",
    "\n",
    "    def get_template(self):\n",
    "        # Returns dictonary of all option settings for this class\n",
    "        try:\n",
    "            return self.template\n",
    "        except:\n",
    "            return {'resolution':2,\n",
    "                    'translation_x':0,\n",
    "                    'translation_y':0,\n",
    "                    'warp':False,\n",
    "                    'rotation':0,\n",
    "                    'patches':False,\n",
    "                    'step': 10\n",
    "                    }\n",
    "\n",
    "    def save_template(self, temp):\n",
    "        # apply the provided template for randomization to self for access by other functions\n",
    "        self.template = temp\n",
    "\n",
    "\n",
    "    def gen_pair(self):\n",
    "        # Generate transformed low resolution and high resolution images\n",
    "\n",
    "        # Inputs:\n",
    "        #   recipe: [dict] dictionary consisting of operations to be performed on images\n",
    "\n",
    "        pass\n",
    "\n",
    "\n",
    "    def run(self, clear=False):\n",
    "        # Run the analysis specified in the template dictionary. If clear is true then the \n",
    "        # files in the output directories will be deleted before creating the new images.\n",
    "\n",
    "        s = 1/self.template['resolution']\n",
    "        for im in self.inp_files:\n",
    "            im_h = np.array(Image.open(im))\n",
    "            im_l = cv2.resize(im_h, (0,0), fx = s, fy =s, interpolation=cv2.INTER_CUBIC)\n",
    "            im_l = cv2.resize(im_l, (0,0), fx = s, fy=s, interpolation=cv2.INTER_CUBIC)\n",
    "\n",
    "            if self.template['patches']:\n",
    "                self.img2patches(self.img_transform(im_h, im_l))\n",
    "            else:\n",
    "                self.img_transform(im_h, im_l)\n",
    "\n",
    "\n",
    "    def img_transform(self):\n",
    "        # Transform the original files using a variety of methods\n",
    "        pass\n",
    "\n",
    "    def img2patches(self, im_h, im_l):\n",
    "        # Take a given image and generate patches\n",
    "        pass\n",
    "\n",
    "\n",
    "    def rgb2ycrbcr(img_rbg):\n",
    "        # Takes an RBG image and returns it as a YCRBCR image (if you just want to focus\n",
    "        #  on luminance values of an image)\n",
    "\n",
    "        img_rgb = img_rgb.astype(np.float32)\n",
    "        img_ycrcb = cv2.cvtColor(img_rgb, cv2.COLOR_RGB2YCR_CB)\n",
    "        img_ycbcr = img_ycrcb[:,:,(0,2,1)].astype(np.float32)\n",
    "        img_ycbcr[:,:,0] = (img_ycbcr[:,:,0]*(235-16)+16)/255.0\n",
    "        img_ycbcr[:,:,1:] = (img_ycbcr[:,:,1:]*(240-16)+16)/255.0\n",
    "        return img_ycbcr\n",
    "\n",
    "    # def save_img(self):\n",
    "    #     # Save the generated image to location specified\n",
    "    #     # Should specify the number of \n",
    "        \n",
    "    #     pyplot.imsave(f'{self.out_dir}')\n",
    "\n",
    "\n",
    "\n",
    "\n",
    "\n",
    "    def match_altered(self):\n",
    "        # Get the files that have been generated in the output directory\n",
    "        ex_files = self.__get_out__()\n",
    "\n",
    "        # Get a set of all the files with agreement before the metadata\n",
    "        if len(ex_files) > len(self.inp_files):\n",
    "            # TODO: add stripping function to remove metadata from string name\n",
    "            matches = list(set(ex_files)-(set(ex_files)-set(self.inp_files)))\n",
    "        else:\n",
    "            matches = list(set(self.inp_files)-(set(self.inp_files)-set(ex_files)))\n",
    "\n",
    "        return matches\n",
    "\n",
    "    def change_inp(self, inp_dir, out_dir, prefix='', suffix=''):\n",
    "        # Change which set of images are viewed as the inputs and outputs\n",
    "        self.inp_files = self.__get_inp__(prefix, suffix)\n",
    "        self.out_files = self.__get_out__()\n"
   ]
  },
  {
   "cell_type": "code",
   "execution_count": 34,
   "metadata": {},
   "outputs": [],
   "source": [
    "qq = sr_gen('./data/raw/nii_sub_HR/','./data/raw/output/')"
   ]
  },
  {
   "cell_type": "code",
   "execution_count": 35,
   "metadata": {},
   "outputs": [
    {
     "data": {
      "image/png": "[encoded data removed]",
      "text/plain": [
       "<Figure size 432x288 with 1 Axes>"
      ]
     },
     "metadata": {
      "needs_background": "light"
     },
     "output_type": "display_data"
    }
   ],
   "source": [
    "qq.__view_sample__()"
   ]
  },
  {
   "cell_type": "code",
   "execution_count": 36,
   "metadata": {},
   "outputs": [
    {
     "data": {
      "text/plain": [
       "{'resolution': 2,\n",
       " 'translation_x': 0,\n",
       " 'translation_y': 0,\n",
       " 'warp': False,\n",
       " 'rotation': 0,\n",
       " 'patches': True}"
      ]
     },
     "execution_count": 36,
     "metadata": {},
     "output_type": "execute_result"
    }
   ],
   "source": [
    "qq.get_template()"
   ]
  },
  {
   "cell_type": "code",
   "execution_count": null,
   "metadata": {},
   "outputs": [],
   "source": [
    "test = sr_gen('./data/nii_HR_ax/','./data/nii_HR_sag/')\n",
    "test.inp_files"
   ]
  },
  {
   "cell_type": "code",
   "execution_count": 34,
   "metadata": {},
   "outputs": [],
   "source": [
    "a = {'1','2','3','2'}\n",
    "b = {'1','2'}"
   ]
  },
  {
   "cell_type": "code",
   "execution_count": 1,
   "metadata": {},
   "outputs": [],
   "source": [
    "a = {'b':20,\n",
    "'c':50}"
   ]
  },
  {
   "cell_type": "code",
   "execution_count": 2,
   "metadata": {},
   "outputs": [
    {
     "data": {
      "text/plain": [
       "{'b': 20, 'c': 50}"
      ]
     },
     "execution_count": 2,
     "metadata": {},
     "output_type": "execute_result"
    }
   ],
   "source": [
    "a"
   ]
  },
  {
   "cell_type": "code",
   "execution_count": 4,
   "metadata": {},
   "outputs": [
    {
     "ename": "SyntaxError",
     "evalue": "invalid syntax (<ipython-input-4-57e2a59d8f90>, line 1)",
     "output_type": "error",
     "traceback": [
      "\u001b[0;36m  File \u001b[0;32m\"<ipython-input-4-57e2a59d8f90>\"\u001b[0;36m, line \u001b[0;32m1\u001b[0m\n\u001b[0;31m    **a\u001b[0m\n\u001b[0m    ^\u001b[0m\n\u001b[0;31mSyntaxError\u001b[0m\u001b[0;31m:\u001b[0m invalid syntax\n"
     ]
    }
   ],
   "source": [
    "**a"
   ]
  },
  {
   "cell_type": "code",
   "execution_count": null,
   "metadata": {},
   "outputs": [],
   "source": []
  }
 ],
 "metadata": {
  "kernelspec": {
   "display_name": "Python 3.8.7 64-bit ('3.8.7')",
   "language": "python",
   "name": "python3"
  },
  "language_info": {
   "codemirror_mode": {
    "name": "ipython",
    "version": 3
   },
   "file_extension": ".py",
   "mimetype": "text/x-python",
   "name": "python",
   "nbconvert_exporter": "python",
   "pygments_lexer": "ipython3",
   "version": "3.8.7"
  },
  "orig_nbformat": 4,
  "vscode": {
   "interpreter": {
    "hash": "539b544e2c3fdc58492248d082a132f5e0b4fea63e914fb274c32873997cf2f6"
   }
  }
 },
 "nbformat": 4,
 "nbformat_minor": 2
}
