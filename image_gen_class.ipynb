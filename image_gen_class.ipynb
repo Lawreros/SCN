{
 "cells": [
  {
   "cell_type": "markdown",
   "metadata": {},
   "source": [
    "## Pytorch MRI image class\n",
    "\n",
    "The purpose of this notebook is to work out a class that I an consistently use for the super-resolution and just general image training of MRI and potentially other medical imaging data types.\n",
    "\n",
    "It's become clear that everyone seems to have a different, unique, way of loading and organizing their data into a format that can be fed into a Pytorch `Dataset` for training a model. This can include creating intermediate `.png` images in order to limit memory usage/training time on personal hardware.\n",
    "\n",
    "Goals for this tool:\n",
    "1. Given an input folder, list all files that match a particular `prefix` and `suffix`\n",
    "2. Display sample images from the list for assurance\n",
    "3. Create randomly shuffled/altered images at different resolutions (gaussian blur, affine transformation, etc.)\n",
    "4. Save any image generated in a specified format\n",
    "5. Be given an input and output folder and generate list of matching data\n",
    "6. Have locations of matching low and high resolution images (potentially a list for every x2 magnification)\n",
    "\n",
    "\n",
    "Output file labeling protocol:\n",
    "To keep things consistent I should probably create a labeling structure that is robust to future changes that I might want to make. This will most likely have to be stored in the string name, unless I want to make an intermediate file that is used as a key for the location of the files relative to the directory."
   ]
  },
  {
   "cell_type": "markdown",
   "metadata": {},
   "source": [
    "## Import necessary libraries"
   ]
  },
  {
   "cell_type": "code",
   "execution_count": null,
   "metadata": {},
   "outputs": [],
   "source": [
    "import torch\n",
    "import torch.nn as nn\n",
    "import torch.nn.functional as F\n",
    "import torch.optim as optim\n",
    "import os\n",
    "import numpy as np\n",
    "from PIL import Image\n",
    "import cv2\n",
    "from matplotlib import pyplot\n",
    "from skimage.transform import rotate, AffineTransform, warp, rescale"
   ]
  },
  {
   "cell_type": "markdown",
   "metadata": {},
   "source": [
    "## Class definition"
   ]
  },
  {
   "cell_type": "code",
   "execution_count": null,
   "metadata": {},
   "outputs": [],
   "source": [
    "# The super resolution class:\n",
    "\n",
    "class sr_gen():\n",
    "    def __init__(self, inp_dir, out_dir):\n",
    "        self.inp_dir = inp_dir\n",
    "        t_files = self.get_truth()\n",
    "\n",
    "    def get_truth(self):\n",
    "        # Get the original files that will be used to generate everything\n",
    "        pass\n",
    "\n",
    "    def get_altered(self):\n",
    "        # Get the files that have been generated in the output directory\n",
    "        pass\n",
    "\n",
    "    def change_res(self):\n",
    "        # Given an particular resolution to change to, upsample or downsample original image\n",
    "        pass\n",
    "\n",
    "    def img_transform(self):\n",
    "        # Transform the original files using a variety of methods\n",
    "        pass\n",
    "\n",
    "    def img2patches(self):\n",
    "        # Take a given image and generate patches\n",
    "        pass\n",
    "\n",
    "    def save_img(self):\n",
    "        # Save the generated image to location specified\n",
    "        # Should specify the number of \n",
    "        pass\n"
   ]
  },
  {
   "cell_type": "code",
   "execution_count": null,
   "metadata": {},
   "outputs": [],
   "source": []
  }
 ],
 "metadata": {
  "language_info": {
   "name": "python"
  },
  "orig_nbformat": 4
 },
 "nbformat": 4,
 "nbformat_minor": 2
}
