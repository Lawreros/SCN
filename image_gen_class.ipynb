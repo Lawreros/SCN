{
 "cells": [
  {
   "cell_type": "markdown",
   "metadata": {},
   "source": [
    "## Pytorch MRI image class\n",
    "\n",
    "The purpose of this notebook is to work out a class that I an consistently use for the super-resolution and just general image training of MRI and potentially other medical imaging data types.\n",
    "\n",
    "It's become clear that everyone seems to have a different, unique, way of loading and organizing their data into a format that can be fed into a Pytorch `Dataset` for training a model. This can include creating intermediate `.png` images in order to limit memory usage/training time on personal hardware.\n",
    "\n",
    "Goals for this tool:\n",
    "1. Given an input folder, list all files that match a particular `prefix` and `suffix`\n",
    "2. Display sample images from the list for assurance\n",
    "3. Create randomly shuffled/altered images at different resolutions (gaussian blur, affine transformation, etc.)\n",
    "    - Make the aspect of saving these images optional\n",
    "4. Save any image generated in a specified format\n",
    "5. Be given an input and output folder and generate list of matching data\n",
    "6. Have locations of matching low and high resolution images (potentially a list for every x2 magnification)\n",
    "\n",
    "\n",
    "Output file labeling protocol:\n",
    "To keep things consistent I should probably create a labeling structure that is robust to future changes that I might want to make. This will most likely have to be stored in the string name, unless I want to make an intermediate file that is used as a key for the location of the files relative to the directory."
   ]
  },
  {
   "cell_type": "markdown",
   "metadata": {},
   "source": [
    "## Import necessary libraries"
   ]
  },
  {
   "cell_type": "code",
   "execution_count": 1,
   "metadata": {},
   "outputs": [],
   "source": [
    "import torch\n",
    "import torch.nn as nn\n",
    "import torch.nn.functional as F\n",
    "import torch.optim as optim\n",
    "import os\n",
    "import numpy as np\n",
    "from PIL import Image\n",
    "import random\n",
    "import cv2\n",
    "from matplotlib import pyplot\n",
    "from skimage.transform import rotate, AffineTransform, warp, rescale"
   ]
  },
  {
   "cell_type": "markdown",
   "metadata": {},
   "source": [
    "## Class definition"
   ]
  },
  {
   "cell_type": "code",
   "execution_count": 140,
   "metadata": {},
   "outputs": [],
   "source": [
    "# The super resolution class:\n",
    "\n",
    "class sr_gen():\n",
    "    def __init__(self, inp_dir, HR_out_dir, LR_out_dir, prefix='', suffix=''):\n",
    "        self.inp_dir = inp_dir\n",
    "        self.HR_out_dir = HR_out_dir\n",
    "        self.LR_out_dir = LR_out_dir\n",
    "        self.inp_files = self.__get_inp__(prefix, suffix)\n",
    "        self.template = self.get_template()\n",
    "\n",
    "    def __get_inp__(self, prefix, suffix):\n",
    "        # Get the original files that will be used to generate everything\n",
    "        # Based on the prefix, for now this could be nifti files or png's.\n",
    "        # Will have to write a \"try\" statement in order to check for file type\n",
    "        files = []\n",
    "        for fil in os.listdir(self.inp_dir):\n",
    "            if fil.startswith(prefix) & fil.endswith(suffix):\n",
    "                files.append(fil)\n",
    "        \n",
    "        if not files:\n",
    "            raise FileNotFoundError('No applicable files found in input directory')\n",
    "\n",
    "        return files\n",
    "\n",
    "    def __get_LR_out__(self):\n",
    "        # get list of files in output directory and determine matching files\n",
    "        return os.listdir(self.LR_out_dir)\n",
    "\n",
    "    def __get_HR_out__(self):\n",
    "        return os.listdir(self.HR_out_dir)\n",
    "\n",
    "\n",
    "    def __view_sample__(self):\n",
    "        # Function which loads and displays random example image for sanity check\n",
    "        pyplot.imshow(Image.open(self.inp_dir + self.inp_files[random.randint(0,len(self.inp_files)-1)]))\n",
    "\n",
    "\n",
    "    def get_template(self):\n",
    "        # Returns dictonary of all option settings for this class\n",
    "        try:\n",
    "            return self.template\n",
    "        except:\n",
    "            return {'resolution':2,\n",
    "                    'translation_x':10,\n",
    "                    'translation_y':10,\n",
    "                    'rotation':0,\n",
    "                    'scale':2,\n",
    "                    'patch':False,\n",
    "                    'step': 10,\n",
    "                    'save_blank':False,\n",
    "                    }\n",
    "\n",
    "    def save_template(self, temp):\n",
    "        # apply the provided template for randomization to self for access by other functions\n",
    "        self.template = temp\n",
    "\n",
    "\n",
    "    def gen_pair(self):\n",
    "        # Generate transformed low resolution and high resolution images\n",
    "\n",
    "        # Inputs:\n",
    "        #   recipe: [dict] dictionary consisting of operations to be performed on images\n",
    "\n",
    "        pass\n",
    "\n",
    "\n",
    "    def run(self, clear=False):\n",
    "        # Run the analysis specified in the template dictionary. If clear is true then the \n",
    "        # files in the output directories will be deleted before creating the new images.\n",
    "\n",
    "        # Make the directories where the new files will be saved\n",
    "        os.makedirs(self.HR_out_dir, exist_ok=True)\n",
    "        os.makedirs(self.LR_out_dir, exist_ok=True)\n",
    "\n",
    "        HR_out_files = []\n",
    "        LR_out_files = []\n",
    "        \n",
    "        s = 1/self.template['resolution']\n",
    "        for im in self.inp_files:\n",
    "            im_h = np.array(Image.open(self.inp_dir + im))\n",
    "\n",
    "            # check the dimensions of the image\n",
    "            #print(f'Shape of High Resolution Image:{im_h.shape}')\n",
    "\n",
    "            im_h = self.rgb2ycrbcr(im_h)\n",
    "            im_h = im_h[:,:,0] #Just deal with intensity values at the moment because \n",
    "                                # having multiple channels throws off cv2 when saving, \n",
    "                                # since it also does BGR instead of RGB and will save a blue image\n",
    "\n",
    "            # TODO: compare cv2.resize with skimage.rescale or pytorch rescale for this\n",
    "            im_l = cv2.resize(im_h, (0,0), fx = s, fy =s, interpolation=cv2.INTER_CUBIC)\n",
    "            im_l = cv2.resize(im_l, (0,0), fx = self.template['resolution'],\n",
    "            fy=self.template['resolution'], interpolation=cv2.INTER_CUBIC)\n",
    "            # TODO: The above resizing results in values outside of the range [0, 255] due to \n",
    "            # the INTER_CUBIC method. For now I'm just clipping the values, but a more nuanced\n",
    "            # answer should be found\n",
    "            im_l = np.clip(im_l, 0, 255)\n",
    "\n",
    "            print(f'HR image shape = {im_h.shape}')\n",
    "            print(f'LR image shape = {im_h.shape}')\n",
    "\n",
    "            if self.template['patch']:\n",
    "                _ = self.img2patches(self.img_transform(im, im_h, im_l), save=True)\n",
    "            else:\n",
    "                _ = self.img_transform(im, im_h, im_l, save=True)\n",
    "            \n",
    "            HR_out_files.append(_)\n",
    "\n",
    "\n",
    "    def img_transform(self,im, im_h, im_l, save=False):\n",
    "        # Transform the original files using a variety of methods\n",
    "\n",
    "        opp = '' #string for storing the operations performed on the images\n",
    "\n",
    "        # If shifting in the x or y direction was selected\n",
    "        if self.template['translation_x'] > 0 | self.template['translation_y'] > 0:\n",
    "            _a = np.random.randint(0,self.template['translation_x'])\n",
    "            _b = np.random.randint(0,self.template['translation_y'])\n",
    "            transform = AffineTransform(translation=(_a, _b))\n",
    "            im_h = warp(im_h, transform,mode='reflect')\n",
    "            im_l = warp(im_l, transform,mode='reflect')\n",
    "            opp += f'_x{_a}_y{_b}'\n",
    "\n",
    "        if self.template['scale'] > 1:\n",
    "            _a = np.random.randint(1,self.template['scale']+1)\n",
    "            transform = AffineTransform(scale=_a)\n",
    "            im_h = warp(im_h, transform, mode='reflect')\n",
    "            im_l = warp(im_l, transform,mode='reflect')\n",
    "            opp+= f'_scale{_a}'\n",
    "\n",
    "        # If rotation was selected\n",
    "        if self.template['rotation'] > 0:\n",
    "            _a = np.random.randint(0,self.template['rotation'])\n",
    "            im_h = rotate(im_h, _a, mode=\"reflect\")\n",
    "            im_l = rotate(im_l, _a, mode=\"reflect\")\n",
    "            opp+= f'_rot{_a}'\n",
    "\n",
    "        opp = im.split('.')[0] + opp\n",
    "\n",
    "        if save:\n",
    "            print(f'Saving image: {opp}')\n",
    "            cv2.imwrite(f'{self.HR_out_dir}/{opp}.png', im_h)\n",
    "            cv2.imwrite(f'{self.LR_out_dir}/{opp}.png', im_l)\n",
    "        else:\n",
    "            return opp, im_h, im_l\n",
    "\n",
    "    def img2patches(self, im, im_h, im_l=False, keep_blank=False, save=False):\n",
    "        # Take a given image and generate patches and returns a stack of images\n",
    "        # im : str, name of the image being cut into patches\n",
    "        # im_h : ndarray, numpy array of the high-resolution image\n",
    "        # im_l : ndarray, numpy array of the low-resolution image. If this is false, \n",
    "        # then you only want to make patches from one image (in this case im_h)\n",
    "\n",
    "        patch_size = self.template['patch']\n",
    "        step = self.template['step']\n",
    "\n",
    "\n",
    "        # Get the height and width of the provided images\n",
    "        h_h, w_h = im_h.shape\n",
    "        h_l, w_l = im_l.shape\n",
    "\n",
    "        # Create a numpy stack following Pytorch protocols\n",
    "        HR_stack = np.zeros((len(range(0,w_h,step))*len(range(0,h_h,step))),h_h,w_h)\n",
    "        if im_l:\n",
    "            LR_stack = np.zeros((len(range(0,w_h,step))*len(range(0,h_h,step))),h_h,w_h)\n",
    "\n",
    "        im_name = im.split('.')[0]\n",
    "\n",
    "        cnt = 0\n",
    "        blank = 0\n",
    "\n",
    "        for i in range(0,w_h,step):\n",
    "            for j in range(0,h_h,step):\n",
    "                while i+patch_size < w_h & j+patch_size < h_h:\n",
    "\n",
    "                    sample_h = im_h[j:j+patch_size, i: i+patch_size]\n",
    "                    if im_l:\n",
    "                        sample_l = im_l[j:j+patch_size, i:i+patch_size]\n",
    "\n",
    "                    # if you've chosen to keep blank patches or if the patch is not blank add \n",
    "                    # it to the stack\n",
    "                    if keep_blank | (sample_h.max() > 0 | sample_l.max() > 0):\n",
    "                        HR_stack[cnt, :,:] = sample_h\n",
    "                        if im_l:\n",
    "                            LR_stack[cnt,:,:] = sample_l\n",
    "                        cnt += 1\n",
    "                    else:\n",
    "                        blank += 1\n",
    "\n",
    "\n",
    "                        \n",
    "        if save: #Whether to save a patch if it is blank/intensity value of 0\n",
    "            for i in range(cnt):\n",
    "                cv2.imwrite(f'{self.HR_out_dir}/{im_name}_{cnt}.png', sample_h)\n",
    "                if im_l:\n",
    "                    cv2.imwrite(f'{self.LR_out_dir}/{im_name}_{cnt}.png', sample_l)\n",
    "        else:\n",
    "            # Return a list of image names and numpy array with the first cnt layers\n",
    "            HR_fnames = []\n",
    "            for i in range(cnt):\n",
    "                HR_fnames.append(f'{im_name}_{i}.png')\n",
    "\n",
    "            if im_l:\n",
    "                return list(zip(HR_fnames, HR_fnames)), HR_stack[:cnt,:,:], LR_stack[:cnt,:,:]\n",
    "            else:\n",
    "                return HR_fnames, HR_stack[:cnt,:,:]\n",
    "        \n",
    "\n",
    "\n",
    "    def rgb2ycrbcr(self, img_rgb):\n",
    "        # Takes an RBG image and returns it as a YCRBCR image (if you just want to focus\n",
    "        #  on luminance values of an image)\n",
    "\n",
    "        img_rgb = img_rgb.astype(np.float32)\n",
    "\n",
    "        img_ycrcb = cv2.cvtColor(img_rgb, cv2.COLOR_RGB2YCR_CB)\n",
    "        img_ycbcr = img_ycrcb[:,:,(0,2,1)].astype(np.float32)\n",
    "        img_ycbcr[:,:,0] = (img_ycbcr[:,:,0]*(235-16)+16)/255.0\n",
    "        img_ycbcr[:,:,1:] = (img_ycbcr[:,:,1:]*(240-16)+16)/255.0\n",
    "\n",
    "        return img_ycbcr\n",
    "\n",
    "\n",
    "\n",
    "    def match_altered(self):\n",
    "        # Get the files that have been generated in the output directory\n",
    "        ex_files = self.__get_out__()\n",
    "\n",
    "        # Get a set of all the files with agreement before the metadata\n",
    "        if len(ex_files) > len(self.inp_files):\n",
    "            # TODO: add stripping function to remove metadata from string name\n",
    "            matches = list(set(ex_files)-(set(ex_files)-set(self.inp_files)))\n",
    "        else:\n",
    "            matches = list(set(self.inp_files)-(set(self.inp_files)-set(ex_files)))\n",
    "\n",
    "        return matches\n",
    "\n",
    "    def change_inp(self, inp_dir, out_dir, prefix='', suffix=''):\n",
    "        # Change which set of images are viewed as the inputs and outputs\n",
    "        self.inp_files = self.__get_inp__(prefix, suffix)\n",
    "        self.out_files = self.__get_out__()\n"
   ]
  },
  {
   "cell_type": "code",
   "execution_count": 141,
   "metadata": {},
   "outputs": [],
   "source": [
    "qq = sr_gen('./data/raw/nii_sub_HR/','./data/raw/HR_output/','./data/raw/LR_output')"
   ]
  },
  {
   "cell_type": "code",
   "execution_count": 142,
   "metadata": {},
   "outputs": [
    {
     "data": {
      "image/png": "[encoded data removed]",
      "text/plain": [
       "<Figure size 432x288 with 1 Axes>"
      ]
     },
     "metadata": {
      "needs_background": "light"
     },
     "output_type": "display_data"
    }
   ],
   "source": [
    "qq.__view_sample__()"
   ]
  },
  {
   "cell_type": "code",
   "execution_count": 143,
   "metadata": {},
   "outputs": [
    {
     "name": "stdout",
     "output_type": "stream",
     "text": [
      "HR image shape = (256, 204)\n",
      "LR image shape = (256, 204)\n",
      "Saving image: 141_scale2\n",
      "HR image shape = (256, 204)\n",
      "LR image shape = (256, 204)\n",
      "Saving image: 155_scale1\n",
      "HR image shape = (256, 204)\n",
      "LR image shape = (256, 204)\n",
      "Saving image: 140_scale1\n",
      "HR image shape = (256, 204)\n",
      "LR image shape = (256, 204)\n",
      "Saving image: 147_scale1\n",
      "HR image shape = (256, 204)\n",
      "LR image shape = (256, 204)\n",
      "Saving image: 145_scale1\n",
      "HR image shape = (256, 204)\n",
      "LR image shape = (256, 204)\n",
      "Saving image: 154_scale2\n",
      "HR image shape = (256, 204)\n",
      "LR image shape = (256, 204)\n",
      "Saving image: 157_scale1\n",
      "HR image shape = (256, 204)\n",
      "LR image shape = (256, 204)\n",
      "Saving image: 151_scale2\n",
      "HR image shape = (256, 204)\n",
      "LR image shape = (256, 204)\n",
      "Saving image: 153_scale2\n",
      "HR image shape = (256, 204)\n",
      "LR image shape = (256, 204)\n",
      "Saving image: 148_scale1\n",
      "HR image shape = (256, 204)\n",
      "LR image shape = (256, 204)\n",
      "Saving image: 149_scale1\n",
      "HR image shape = (256, 204)\n",
      "LR image shape = (256, 204)\n",
      "Saving image: 156_scale1\n",
      "HR image shape = (256, 204)\n",
      "LR image shape = (256, 204)\n",
      "Saving image: 144_scale1\n",
      "HR image shape = (256, 204)\n",
      "LR image shape = (256, 204)\n",
      "Saving image: 142_scale1\n",
      "HR image shape = (256, 204)\n",
      "LR image shape = (256, 204)\n",
      "Saving image: 143_scale1\n",
      "HR image shape = (256, 204)\n",
      "LR image shape = (256, 204)\n",
      "Saving image: 158_scale2\n",
      "HR image shape = (256, 204)\n",
      "LR image shape = (256, 204)\n",
      "Saving image: 159_scale2\n",
      "HR image shape = (256, 204)\n",
      "LR image shape = (256, 204)\n",
      "Saving image: 152_scale2\n",
      "HR image shape = (256, 204)\n",
      "LR image shape = (256, 204)\n",
      "Saving image: 160_scale2\n",
      "HR image shape = (256, 204)\n",
      "LR image shape = (256, 204)\n",
      "Saving image: 150_scale1\n",
      "HR image shape = (256, 204)\n",
      "LR image shape = (256, 204)\n",
      "Saving image: 146_scale1\n"
     ]
    }
   ],
   "source": [
    "im_h = qq.run()"
   ]
  },
  {
   "cell_type": "code",
   "execution_count": 98,
   "metadata": {},
   "outputs": [
    {
     "data": {
      "text/plain": [
       "219.06274"
      ]
     },
     "execution_count": 98,
     "metadata": {},
     "output_type": "execute_result"
    }
   ],
   "source": [
    "im_h[:,:,0].max()"
   ]
  },
  {
   "cell_type": "code",
   "execution_count": 128,
   "metadata": {},
   "outputs": [
    {
     "data": {
      "text/plain": [
       "True"
      ]
     },
     "execution_count": 128,
     "metadata": {},
     "output_type": "execute_result"
    }
   ],
   "source": [
    "grayim = np.zeros(im_h.shape)\n",
    "grayim[:,:,0]= grayim[:,:,1] = grayim[:,:,2] = im_h[:,:,0]\n",
    "\n",
    "cv2.imwrite('test.png',grayim[:,:,0])"
   ]
  },
  {
   "cell_type": "code",
   "execution_count": 138,
   "metadata": {},
   "outputs": [
    {
     "data": {
      "text/plain": [
       "(256, 204, 3)"
      ]
     },
     "execution_count": 138,
     "metadata": {},
     "output_type": "execute_result"
    }
   ],
   "source": [
    "np.array(Image.open('./data/raw/HR_output/140_scale1.png')).shape"
   ]
  },
  {
   "cell_type": "code",
   "execution_count": 71,
   "metadata": {},
   "outputs": [],
   "source": [
    "temp = qq.get_template()\n",
    "temp[\"patch\"]=True\n",
    "qq.save_template(temp)"
   ]
  },
  {
   "cell_type": "code",
   "execution_count": 34,
   "metadata": {},
   "outputs": [],
   "source": [
    "a = {'1','2','3','2'}\n",
    "b = {'1','2'}"
   ]
  },
  {
   "cell_type": "code",
   "execution_count": 1,
   "metadata": {},
   "outputs": [],
   "source": [
    "a = {'b':20,\n",
    "'c':50}"
   ]
  },
  {
   "cell_type": "code",
   "execution_count": 91,
   "metadata": {},
   "outputs": [
    {
     "data": {
      "text/plain": [
       "0"
      ]
     },
     "execution_count": 91,
     "metadata": {},
     "output_type": "execute_result"
    }
   ],
   "source": [
    "np.random.randint(2)"
   ]
  },
  {
   "cell_type": "code",
   "execution_count": 123,
   "metadata": {},
   "outputs": [
    {
     "data": {
      "text/plain": [
       "<matplotlib.image.AxesImage at 0x7ff0ed1b9550>"
      ]
     },
     "execution_count": 123,
     "metadata": {},
     "output_type": "execute_result"
    },
    {
     "data": {
      "image/png": "[encoded data removed]",
      "text/plain": [
       "<Figure size 432x288 with 1 Axes>"
      ]
     },
     "metadata": {
      "needs_background": "light"
     },
     "output_type": "display_data"
    }
   ],
   "source": [
    "pyplot.imshow(rescale(np.array(Image.open('./data/raw/nii_HR/104.png')),10,mode='symmetric',multichannel=True))"
   ]
  },
  {
   "cell_type": "code",
   "execution_count": 145,
   "metadata": {},
   "outputs": [
    {
     "data": {
      "text/plain": [
       "[('this', 'how'), ('list', 'about'), ('is', 'this'), ('cool', 'list')]"
      ]
     },
     "execution_count": 145,
     "metadata": {},
     "output_type": "execute_result"
    }
   ],
   "source": [
    "a = ['this','list','is','cool']\n",
    "b = ['how','about','this','list']\n",
    "list(zip(a,b))"
   ]
  },
  {
   "cell_type": "code",
   "execution_count": 55,
   "metadata": {},
   "outputs": [
    {
     "data": {
      "text/plain": [
       "1"
      ]
     },
     "execution_count": 55,
     "metadata": {},
     "output_type": "execute_result"
    }
   ],
   "source": [
    "np.random.randint(1,2)"
   ]
  },
  {
   "cell_type": "code",
   "execution_count": null,
   "metadata": {},
   "outputs": [],
   "source": []
  }
 ],
 "metadata": {
  "kernelspec": {
   "display_name": "Python 3.8.7 64-bit ('3.8.7')",
   "language": "python",
   "name": "python3"
  },
  "language_info": {
   "codemirror_mode": {
    "name": "ipython",
    "version": 3
   },
   "file_extension": ".py",
   "mimetype": "text/x-python",
   "name": "python",
   "nbconvert_exporter": "python",
   "pygments_lexer": "ipython3",
   "version": "3.8.7"
  },
  "orig_nbformat": 4,
  "vscode": {
   "interpreter": {
    "hash": "539b544e2c3fdc58492248d082a132f5e0b4fea63e914fb274c32873997cf2f6"
   }
  }
 },
 "nbformat": 4,
 "nbformat_minor": 2
}
